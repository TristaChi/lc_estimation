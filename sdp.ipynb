{
 "cells": [
  {
   "cell_type": "code",
   "execution_count": 2,
   "metadata": {},
   "outputs": [],
   "source": [
    "import tensorflow as tf\n",
    "import numpy as np"
   ]
  },
  {
   "cell_type": "code",
   "execution_count": 24,
   "metadata": {},
   "outputs": [
    {
     "name": "stdout",
     "output_type": "stream",
     "text": [
      "tf.Tensor([0.03272021 0.28152406 0.91766584 0.22948515 0.45178938], shape=(5,), dtype=float32) tf.Tensor(\n",
      "[[0.03272021 0.         0.         0.         0.        ]\n",
      " [0.         0.28152406 0.         0.         0.        ]\n",
      " [0.         0.         0.91766584 0.         0.        ]\n",
      " [0.         0.         0.         0.22948515 0.        ]\n",
      " [0.         0.         0.         0.         0.45178938]], shape=(5, 5), dtype=float32)\n",
      "tf.Tensor([[1.5011142]], shape=(1, 1), dtype=float32)\n"
     ]
    }
   ],
   "source": [
    "n=5\n",
    "m=7\n",
    "x = tf.random.uniform(shape=[m,1])\n",
    "W = tf.random.uniform(shape=[n,m])\n",
    "y = tf.random.uniform(shape=[n])\n",
    "diag_y = tf.linalg.diag(y)\n",
    "print(y,diag_y)\n",
    "u = tf.random.uniform(shape=[1,n])\n",
    "f= u@diag_y@W@x\n",
    "print(f)"
   ]
  },
  {
   "cell_type": "code",
   "execution_count": null,
   "metadata": {},
   "outputs": [],
   "source": []
  }
 ],
 "metadata": {
  "interpreter": {
   "hash": "31f2aee4e71d21fbe5cf8b01ff0e069b9275f58929596ceb00d14d90e3e16cd6"
  },
  "kernelspec": {
   "display_name": "Python 3",
   "language": "python",
   "name": "python3"
  },
  "language_info": {
   "codemirror_mode": {
    "name": "ipython",
    "version": 3
   },
   "file_extension": ".py",
   "mimetype": "text/x-python",
   "name": "python",
   "nbconvert_exporter": "python",
   "pygments_lexer": "ipython3",
   "version": "3.9.1"
  }
 },
 "nbformat": 4,
 "nbformat_minor": 2
}
