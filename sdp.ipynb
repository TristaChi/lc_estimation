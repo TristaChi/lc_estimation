{
 "cells": [
  {
   "cell_type": "code",
   "execution_count": 2,
   "metadata": {},
   "outputs": [],
   "source": [
    "import tensorflow as tf\n",
    "import numpy as np"
   ]
  },
  {
   "cell_type": "code",
   "execution_count": 94,
   "metadata": {},
   "outputs": [],
   "source": [
    "# generate 2 layer network with \n",
    "# m features on the input, n nodes on the first layer, and 1 value as output\n",
    "n=2\n",
    "m=3\n",
    "x = tf.Variable(tf.random.normal((m, 1)), name='x')\n",
    "W = tf.Variable(tf.random.normal((n, m)), name='W')\n",
    "y = tf.Variable(tf.random.normal(shape=[n]), name='y')\n",
    "diag_y = tf.linalg.diag(y)\n",
    "u = tf.random.uniform(shape=[1,n])\n",
    "# print(x,W)\n",
    "# print(y,diag_y)"
   ]
  },
  {
   "cell_type": "markdown",
   "metadata": {},
   "source": [
    "# 1, Using auto-differentiation from deep learning framework"
   ]
  },
  {
   "cell_type": "code",
   "execution_count": 95,
   "metadata": {},
   "outputs": [
    {
     "name": "stdout",
     "output_type": "stream",
     "text": [
      "tf.Tensor(\n",
      "[[ 1.2352295 ]\n",
      " [-0.5007099 ]\n",
      " [-0.79972357]], shape=(3, 1), dtype=float32)\n"
     ]
    }
   ],
   "source": [
    "with tf.GradientTape() as tape:\n",
    "    f= u@diag_y@W@x\n",
    "df_dx = tape.gradient(f, x)\n",
    "print(df_dx)"
   ]
  },
  {
   "cell_type": "markdown",
   "metadata": {},
   "source": [
    "# 2, Using the analytical solution given by Jacobi’s formula"
   ]
  },
  {
   "cell_type": "markdown",
   "metadata": {},
   "source": [
    "- v = (zeta, lam, tau)\n",
    "- **T1** = diag(lam)\n",
    "- **T2** = diag(tau)"
   ]
  },
  {
   "cell_type": "markdown",
   "metadata": {},
   "source": [
    "| matix name | shape |\n",
    "| ------- | ---- |\n",
    "| **tau** | m |\n",
    "| **lam** | n |\n",
    "| **T1** | n,n |\n",
    "| **T2** | m,m |\n",
    "| **W** | n,m |\n",
    "| **u** | 1,n |\n",
    "| **M**, **M_zeta**, **M_c**| 1+m+n+n+m,1+m+n+n+m |\n",
    "| **M_tau**| m,1+m+n+n+m,1+m+n+n+m |\n",
    "| **M_lam**| n,1+m+n+n+m,1+m+n+n+m |\n"
   ]
  },
  {
   "cell_type": "code",
   "execution_count": 96,
   "metadata": {},
   "outputs": [
    {
     "name": "stdout",
     "output_type": "stream",
     "text": [
      "(3, 11, 11)\n"
     ]
    }
   ],
   "source": [
    "M_zeta = np.zeros([1+m+n+n+m,1+m+n+n+m])\n",
    "M_zeta[0,0] = 1\n",
    "M_tau = np.zeros([m,1+m+n+n+m,1+m+n+n+m])\n",
    "print(np.shape(M_tau))\n",
    "for i in range(m):\n",
    "    M_tau[i][0][0] = -1\n",
    "    M_tau[i][i+1][i+1] = 1\n",
    "    M_tau[i][i+1+m+n+n][i+1+m+n+n] = 1"
   ]
  },
  {
   "cell_type": "code",
   "execution_count": 97,
   "metadata": {},
   "outputs": [
    {
     "name": "stdout",
     "output_type": "stream",
     "text": [
      "(2, 11, 11)\n"
     ]
    }
   ],
   "source": [
    "M_lam = np.zeros([n,1+m+n+n+m,1+m+n+n+m])\n",
    "print(np.shape(M_lam))\n",
    "for i in range(n):\n",
    "    for j in range (m):\n",
    "        M_lam[i][1+m+i][1+j] = -W[i][j]\n",
    "        M_lam[i][1+j][1+m+i] = -W[i][j]\n",
    "    M_lam[i][1+m+i][1+m+i] = 2\n",
    "    M_lam[i][1+m+n+i][1+m+n+i] = 1\n",
    "# print(M_lam[1])"
   ]
  },
  {
   "cell_type": "code",
   "execution_count": 98,
   "metadata": {},
   "outputs": [],
   "source": [
    "M_c = np.zeros([1+m+n+n+m,1+m+n+n+m])\n",
    "for i in range(n):\n",
    "    M_c[1+m+i][1] = -u[0][i]\n",
    "    M_c[1][1+m+i] = -u[0][i]\n",
    "# print(M_c)"
   ]
  },
  {
   "cell_type": "code",
   "execution_count": null,
   "metadata": {},
   "outputs": [],
   "source": []
  }
 ],
 "metadata": {
  "interpreter": {
   "hash": "31f2aee4e71d21fbe5cf8b01ff0e069b9275f58929596ceb00d14d90e3e16cd6"
  },
  "kernelspec": {
   "display_name": "Python 3",
   "language": "python",
   "name": "python3"
  },
  "language_info": {
   "codemirror_mode": {
    "name": "ipython",
    "version": 3
   },
   "file_extension": ".py",
   "mimetype": "text/x-python",
   "name": "python",
   "nbconvert_exporter": "python",
   "pygments_lexer": "ipython3",
   "version": "3.9.1"
  }
 },
 "nbformat": 4,
 "nbformat_minor": 2
}
